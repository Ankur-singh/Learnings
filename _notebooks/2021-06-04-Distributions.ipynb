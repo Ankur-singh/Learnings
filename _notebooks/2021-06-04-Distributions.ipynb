{
 "cells": [
  {
   "cell_type": "markdown",
   "id": "8a50fcea-a9cd-47a9-8967-f9ea78097ba3",
   "metadata": {},
   "source": [
    "# Distributions\n",
    "> A brief introduction to distributions in statistics.\n",
    "\n",
    "- toc: true \n",
    "- badges: true\n",
    "- comments: true\n",
    "- categories: [Statistics, EDA]"
   ]
  },
  {
   "cell_type": "markdown",
   "id": "a64298e4-eafd-4929-82e7-a3a5b013b0f6",
   "metadata": {},
   "source": [
    "In this blog, we will discuss all about distributions from Data Science & EDA perspective. We will be using \"diamonds\" dataset from seaborn library. "
   ]
  },
  {
   "cell_type": "code",
   "execution_count": 3,
   "id": "41df2b1b-a635-4cfc-921d-0386ef9aa8a5",
   "metadata": {},
   "outputs": [
    {
     "data": {
      "text/html": [
       "<div>\n",
       "<style scoped>\n",
       "    .dataframe tbody tr th:only-of-type {\n",
       "        vertical-align: middle;\n",
       "    }\n",
       "\n",
       "    .dataframe tbody tr th {\n",
       "        vertical-align: top;\n",
       "    }\n",
       "\n",
       "    .dataframe thead th {\n",
       "        text-align: right;\n",
       "    }\n",
       "</style>\n",
       "<table border=\"1\" class=\"dataframe\">\n",
       "  <thead>\n",
       "    <tr style=\"text-align: right;\">\n",
       "      <th></th>\n",
       "      <th>carat</th>\n",
       "      <th>cut</th>\n",
       "      <th>color</th>\n",
       "      <th>clarity</th>\n",
       "      <th>depth</th>\n",
       "      <th>table</th>\n",
       "      <th>price</th>\n",
       "      <th>x</th>\n",
       "      <th>y</th>\n",
       "      <th>z</th>\n",
       "    </tr>\n",
       "  </thead>\n",
       "  <tbody>\n",
       "    <tr>\n",
       "      <th>0</th>\n",
       "      <td>0.23</td>\n",
       "      <td>Ideal</td>\n",
       "      <td>E</td>\n",
       "      <td>SI2</td>\n",
       "      <td>61.5</td>\n",
       "      <td>55.0</td>\n",
       "      <td>326</td>\n",
       "      <td>3.95</td>\n",
       "      <td>3.98</td>\n",
       "      <td>2.43</td>\n",
       "    </tr>\n",
       "    <tr>\n",
       "      <th>1</th>\n",
       "      <td>0.21</td>\n",
       "      <td>Premium</td>\n",
       "      <td>E</td>\n",
       "      <td>SI1</td>\n",
       "      <td>59.8</td>\n",
       "      <td>61.0</td>\n",
       "      <td>326</td>\n",
       "      <td>3.89</td>\n",
       "      <td>3.84</td>\n",
       "      <td>2.31</td>\n",
       "    </tr>\n",
       "    <tr>\n",
       "      <th>2</th>\n",
       "      <td>0.23</td>\n",
       "      <td>Good</td>\n",
       "      <td>E</td>\n",
       "      <td>VS1</td>\n",
       "      <td>56.9</td>\n",
       "      <td>65.0</td>\n",
       "      <td>327</td>\n",
       "      <td>4.05</td>\n",
       "      <td>4.07</td>\n",
       "      <td>2.31</td>\n",
       "    </tr>\n",
       "    <tr>\n",
       "      <th>3</th>\n",
       "      <td>0.29</td>\n",
       "      <td>Premium</td>\n",
       "      <td>I</td>\n",
       "      <td>VS2</td>\n",
       "      <td>62.4</td>\n",
       "      <td>58.0</td>\n",
       "      <td>334</td>\n",
       "      <td>4.20</td>\n",
       "      <td>4.23</td>\n",
       "      <td>2.63</td>\n",
       "    </tr>\n",
       "    <tr>\n",
       "      <th>4</th>\n",
       "      <td>0.31</td>\n",
       "      <td>Good</td>\n",
       "      <td>J</td>\n",
       "      <td>SI2</td>\n",
       "      <td>63.3</td>\n",
       "      <td>58.0</td>\n",
       "      <td>335</td>\n",
       "      <td>4.34</td>\n",
       "      <td>4.35</td>\n",
       "      <td>2.75</td>\n",
       "    </tr>\n",
       "  </tbody>\n",
       "</table>\n",
       "</div>"
      ],
      "text/plain": [
       "   carat      cut color clarity  depth  table  price     x     y     z\n",
       "0   0.23    Ideal     E     SI2   61.5   55.0    326  3.95  3.98  2.43\n",
       "1   0.21  Premium     E     SI1   59.8   61.0    326  3.89  3.84  2.31\n",
       "2   0.23     Good     E     VS1   56.9   65.0    327  4.05  4.07  2.31\n",
       "3   0.29  Premium     I     VS2   62.4   58.0    334  4.20  4.23  2.63\n",
       "4   0.31     Good     J     SI2   63.3   58.0    335  4.34  4.35  2.75"
      ]
     },
     "execution_count": 3,
     "metadata": {},
     "output_type": "execute_result"
    }
   ],
   "source": [
    "import seaborn as sns\n",
    "import pandas as pd\n",
    "\n",
    "data = sns.load_dataset('diamonds')\n",
    "data.head()"
   ]
  },
  {
   "cell_type": "markdown",
   "id": "aa7c88d4-051c-49f7-b002-5fb6a7f53516",
   "metadata": {},
   "source": [
    "## Dataset & basic EDA\n",
    "\n",
    "Every dataset consists of samples (or records) and for every sample we record multiple features. Here, every sample is a diamond & for every diamond we have recorded *carat, cut, color, clarity, depth, table, price, x, y & z* features as we can see in the table above.\n",
    "\n",
    "Its a good practice to check the shape of the dataset, missing values & unique values, even before we start the exploration process."
   ]
  },
  {
   "cell_type": "code",
   "execution_count": 4,
   "id": "5d683da6-a07d-4cce-95e4-0a5ac9f5f76f",
   "metadata": {},
   "outputs": [
    {
     "data": {
      "text/plain": [
       "(53940, 10)"
      ]
     },
     "execution_count": 4,
     "metadata": {},
     "output_type": "execute_result"
    }
   ],
   "source": [
    "data.shape"
   ]
  },
  {
   "cell_type": "markdown",
   "id": "1b7e6a65-417c-40f6-aa92-917f74ea773b",
   "metadata": {},
   "source": [
    "Wow! we have a lot of data . . . "
   ]
  },
  {
   "cell_type": "code",
   "execution_count": 5,
   "id": "11d352c7-814f-4fb1-8a51-b14af087acfd",
   "metadata": {},
   "outputs": [
    {
     "data": {
      "text/plain": [
       "carat      0\n",
       "cut        0\n",
       "color      0\n",
       "clarity    0\n",
       "depth      0\n",
       "table      0\n",
       "price      0\n",
       "x          0\n",
       "y          0\n",
       "z          0\n",
       "dtype: int64"
      ]
     },
     "execution_count": 5,
     "metadata": {},
     "output_type": "execute_result"
    }
   ],
   "source": [
    "data.isnull().sum()"
   ]
  },
  {
   "cell_type": "markdown",
   "id": "38a93921-9c8e-488e-9bd8-6f114b5f2600",
   "metadata": {},
   "source": [
    "We don't have any missing values. This is good news.\n",
    "\n",
    "Now lets look at unique values . . ."
   ]
  },
  {
   "cell_type": "code",
   "execution_count": 6,
   "id": "70e9af72-f7aa-4f42-bdba-ddc1e6d427a0",
   "metadata": {},
   "outputs": [
    {
     "data": {
      "text/plain": [
       "carat        273\n",
       "cut            5\n",
       "color          7\n",
       "clarity        8\n",
       "depth        184\n",
       "table        127\n",
       "price      11602\n",
       "x            554\n",
       "y            552\n",
       "z            375\n",
       "dtype: int64"
      ]
     },
     "execution_count": 6,
     "metadata": {},
     "output_type": "execute_result"
    }
   ],
   "source": [
    "data.nunique()"
   ]
  },
  {
   "cell_type": "markdown",
   "id": "d323a676-722b-4007-bc1b-b26d5d4b3a42",
   "metadata": {},
   "source": [
    "A feature can be either *categorical* or *continuous*.\n",
    "\n",
    "- **Categorical Features**: Finite & Distinct values. Here, `cut`, `color` and `clarity` are categorical features.\n",
    "- **Continuous Features**: Infinite & continuous values.\n",
    "\n",
    "Its extremely important to identify your categorical & continuous features because they require different treatment when it comes to analysis & pre-processing. "
   ]
  },
  {
   "cell_type": "markdown",
   "id": "09c47d0b-6929-4e66-b941-bf31ac3a3f69",
   "metadata": {},
   "source": [
    "## Frequency Table\n",
    "\n",
    "Now that we know our categorical & continuous features, lets start the exploration . . . we will start with `cut` feature"
   ]
  },
  {
   "cell_type": "code",
   "execution_count": 7,
   "id": "85fd8ab3-7bef-4a77-b211-d351a67f5501",
   "metadata": {},
   "outputs": [
    {
     "data": {
      "text/plain": [
       "['Ideal', 'Premium', 'Good', 'Premium', 'Good', ..., 'Ideal', 'Good', 'Very Good', 'Premium', 'Ideal']\n",
       "Length: 53940\n",
       "Categories (5, object): ['Ideal', 'Premium', 'Very Good', 'Good', 'Fair']"
      ]
     },
     "execution_count": 7,
     "metadata": {},
     "output_type": "execute_result"
    }
   ],
   "source": [
    "data.cut.values"
   ]
  },
  {
   "cell_type": "markdown",
   "id": "e411caad-3e26-4121-a0bd-b9f3e1633009",
   "metadata": {},
   "source": [
    "There are 53940 values in total & 5 unique values. But this is not very useful. So lets create a **frequency table** out of it"
   ]
  },
  {
   "cell_type": "code",
   "execution_count": 8,
   "id": "67f1d094-64f2-4a13-8538-1248acd7fbd5",
   "metadata": {},
   "outputs": [
    {
     "data": {
      "text/plain": [
       "Ideal        21551\n",
       "Premium      13791\n",
       "Very Good    12082\n",
       "Good          4906\n",
       "Fair          1610\n",
       "Name: cut, dtype: int64"
      ]
     },
     "execution_count": 8,
     "metadata": {},
     "output_type": "execute_result"
    }
   ],
   "source": [
    "data.cut.value_counts()"
   ]
  },
  {
   "cell_type": "markdown",
   "id": "65ba1bc6-ec93-4261-aac1-cde75e09c222",
   "metadata": {},
   "source": [
    "Now we can clearly see how many diamonds we have for each possible value of *cut*. This is much better than randomly throwing a list of ~54K values at someone. \n",
    "\n",
    "Similarly, lets explore other columns . . ."
   ]
  },
  {
   "cell_type": "code",
   "execution_count": 9,
   "id": "dca1d013-92e2-4237-8723-37be744346fd",
   "metadata": {},
   "outputs": [
    {
     "data": {
      "text/plain": [
       "G    11292\n",
       "E     9797\n",
       "F     9542\n",
       "H     8304\n",
       "D     6775\n",
       "I     5422\n",
       "J     2808\n",
       "Name: color, dtype: int64"
      ]
     },
     "execution_count": 9,
     "metadata": {},
     "output_type": "execute_result"
    }
   ],
   "source": [
    "data.color.value_counts()"
   ]
  },
  {
   "cell_type": "code",
   "execution_count": 10,
   "id": "48f6f967-1b76-4e94-b1c0-d39faeff348a",
   "metadata": {},
   "outputs": [
    {
     "data": {
      "text/plain": [
       "SI1     13065\n",
       "VS2     12258\n",
       "SI2      9194\n",
       "VS1      8171\n",
       "VVS2     5066\n",
       "VVS1     3655\n",
       "IF       1790\n",
       "I1        741\n",
       "Name: clarity, dtype: int64"
      ]
     },
     "execution_count": 10,
     "metadata": {},
     "output_type": "execute_result"
    }
   ],
   "source": [
    "data.clarity.value_counts()"
   ]
  },
  {
   "cell_type": "markdown",
   "id": "a3322697-bcc9-4659-ac6d-d63e7fdefe45",
   "metadata": {},
   "source": [
    "So far, we have very few unique values. And still we are not able to make such sense out of these *frequency tables*. Imagine, if we have a lot of unique values then it will quickly become unmanageable."
   ]
  },
  {
   "cell_type": "markdown",
   "id": "8d71ac8a-1745-41b6-a2c0-143b8fc7e7ee",
   "metadata": {},
   "source": [
    "## Bar Plot\n",
    "\n",
    "Remember, humans are visual creatures. So lets create a *bar plot* describing above table."
   ]
  },
  {
   "cell_type": "code",
   "execution_count": 11,
   "id": "559f1ce0-1f81-4804-9d77-cf0f0e8d74e3",
   "metadata": {},
   "outputs": [
    {
     "data": {
      "image/png": "[encoded data removed]",
      "text/plain": [
       "<Figure size 432x288 with 1 Axes>"
      ]
     },
     "metadata": {
      "needs_background": "light"
     },
     "output_type": "display_data"
    }
   ],
   "source": [
    "tmp = data.clarity.value_counts()\n",
    "p = sns.barplot(x=tmp.index, y=tmp.values)\n",
    "p.set(xlabel='Clarity', ylabel='Count');"
   ]
  },
  {
   "cell_type": "markdown",
   "id": "8f166c88-62ff-45ab-8b1d-e79cbead62e6",
   "metadata": {},
   "source": [
    "Again, this is much better. We can clearly see people prefer *VS2* & *SI1* over other category of *clarity*.\n",
    "\n",
    "Using these three things (data, frequency table, & bar plot) we can answer a lot of interesting question about our data. For example:\n",
    "- What is most & least frequent category?\n",
    "- How many more people bought *VS2* compared to *VS1*? \n",
    "\n",
    "Things get really interesting once you start repeating the same process for other categorical features as well. Not just other categories, you can also repeat the process for any subset of data."
   ]
  },
  {
   "cell_type": "markdown",
   "id": "72515c98-663b-4ed6-9969-7141d28eb45e",
   "metadata": {},
   "source": [
    "## Comparing Bar plots\n",
    "\n",
    "Say We want to see how *clarity* changes for *Ideal* cut of diamonds"
   ]
  },
  {
   "cell_type": "code",
   "execution_count": 12,
   "id": "5060173d-498e-4117-a67b-0d10c633870b",
   "metadata": {},
   "outputs": [
    {
     "data": {
      "text/plain": [
       "(21551, 10)"
      ]
     },
     "execution_count": 12,
     "metadata": {},
     "output_type": "execute_result"
    }
   ],
   "source": [
    "ideal = data[data.cut == \"Ideal\"]\n",
    "ideal.shape"
   ]
  },
  {
   "cell_type": "code",
   "execution_count": 13,
   "id": "02a7e0e5-ad46-41b3-91f0-67899d7e3564",
   "metadata": {},
   "outputs": [
    {
     "data": {
      "image/png": "[encoded data removed]",
      "text/plain": [
       "<Figure size 432x288 with 1 Axes>"
      ]
     },
     "metadata": {
      "needs_background": "light"
     },
     "output_type": "display_data"
    }
   ],
   "source": [
    "tmp = ideal.clarity.value_counts()\n",
    "p = sns.barplot(x=tmp.index, y=tmp.values)\n",
    "p.set(xlabel='Clarity', ylabel='Count');"
   ]
  },
  {
   "cell_type": "markdown",
   "id": "e62b57d0-e843-4aa4-baf1-1edac1d2a3eb",
   "metadata": {},
   "source": [
    "Now lets, see how *clarity* is distributed for *Good* cut of diamonds."
   ]
  },
  {
   "cell_type": "code",
   "execution_count": 14,
   "id": "af2d8aac-cf41-4bfa-849b-ff1176d9cf70",
   "metadata": {},
   "outputs": [
    {
     "data": {
      "text/plain": [
       "(4906, 10)"
      ]
     },
     "execution_count": 14,
     "metadata": {},
     "output_type": "execute_result"
    }
   ],
   "source": [
    "good = data[data.cut == \"Good\"]\n",
    "good.shape"
   ]
  },
  {
   "cell_type": "code",
   "execution_count": 15,
   "id": "06a97335-db45-47a4-9b58-eb44fccbc10a",
   "metadata": {},
   "outputs": [
    {
     "data": {
      "image/png": "[encoded data removed]",
      "text/plain": [
       "<Figure size 432x288 with 1 Axes>"
      ]
     },
     "metadata": {
      "needs_background": "light"
     },
     "output_type": "display_data"
    }
   ],
   "source": [
    "tmp = good.clarity.value_counts()\n",
    "p = sns.barplot(x=tmp.index, y=tmp.values)\n",
    "p.set(xlabel='Clarity', ylabel='Count');"
   ]
  },
  {
   "cell_type": "markdown",
   "id": "15b1bbac-dacc-4b09-a6b2-545590c4bc0d",
   "metadata": {},
   "source": [
    "As you can see most other categories are same but in *Good* cut diamonds, *SI1* is the most popular category where as in *Ideal* cut diamonds, *VS2* is the most popular category.\n",
    "\n",
    "Lets compare both these distributions by plotting them together . . ."
   ]
  },
  {
   "cell_type": "code",
   "execution_count": 16,
   "id": "f307e994-51b0-42c1-abf2-272354dd0ac6",
   "metadata": {},
   "outputs": [
    {
     "data": {
      "image/png": "[encoded data removed]",
      "text/plain": [
       "<Figure size 432x288 with 1 Axes>"
      ]
     },
     "metadata": {
      "needs_background": "light"
     },
     "output_type": "display_data"
    }
   ],
   "source": [
    "#collapse-hide\n",
    "tmp1 = pd.DataFrame(ideal.clarity.value_counts())\n",
    "tmp1.reset_index(inplace=True)\n",
    "tmp1['cut'] = 'Ideal'\n",
    "tmp1.columns = ['clarity', 'count', 'cut']\n",
    "\n",
    "tmp2 = pd.DataFrame(good.clarity.value_counts())\n",
    "tmp2.reset_index(inplace=True)\n",
    "tmp2['cut'] = 'Good'\n",
    "tmp2.columns = ['clarity', 'count', 'cut']\n",
    "\n",
    "tmp = pd.concat([tmp1, tmp2])\n",
    "\n",
    "sns.barplot(x=tmp.clarity, y=tmp['count'], hue=tmp.cut);"
   ]
  },
  {
   "cell_type": "markdown",
   "id": "d6b70c64-319d-4bb1-8977-cdc716503e07",
   "metadata": {},
   "source": [
    "Huh 🤔, its pretty obvious that we have many more *Ideal* diamonds than *Good* diamonds. Its not a fair comparison, because of bigger sample size, *Ideal* diamonds are completely overshadowing the *Good* diamonds. \n",
    "\n",
    "For a fair comparison instead of comparing absolute frequency values, we should compare the percentage values."
   ]
  },
  {
   "cell_type": "markdown",
   "id": "6bf4c57e-a3f0-4a31-95df-42e80d09235b",
   "metadata": {},
   "source": [
    "## Probability Mass Functions (PMFs)\n",
    "\n",
    "Count Plots are not good for comparing distributions. Hence we need to normalize them. These plots are know as **Probability Mass functions (PMFs)**.\n",
    "\n",
    "Lets see how we can normalize our frequency tables to make PMF plots"
   ]
  },
  {
   "cell_type": "code",
   "execution_count": 17,
   "id": "52877fdc-ef6e-4e50-b542-3c082bfa2425",
   "metadata": {},
   "outputs": [
    {
     "data": {
      "text/plain": [
       "VS2     0.235302\n",
       "SI1     0.198691\n",
       "VS1     0.166535\n",
       "VVS2    0.120922\n",
       "SI2     0.120551\n",
       "VVS1    0.094984\n",
       "IF      0.056239\n",
       "I1      0.006775\n",
       "Name: clarity, dtype: float64"
      ]
     },
     "execution_count": 17,
     "metadata": {},
     "output_type": "execute_result"
    }
   ],
   "source": [
    "ideal.clarity.value_counts()/len(ideal)"
   ]
  },
  {
   "cell_type": "markdown",
   "id": "c9a75fcc-f3c9-4887-9596-b9994048ed1f",
   "metadata": {},
   "source": [
    "pretty simple, right? If you just divide your absolute values by total number of samples (i.e length of the corresponding dataframe) then you will get percentage values. \n",
    "\n",
    "The above table shows that 23.5% of *Ideal* cut diamond has *VS2* clarity.\n",
    "\n",
    "Lets now try to plot these percentage values."
   ]
  },
  {
   "cell_type": "code",
   "execution_count": 18,
   "id": "740a5aa3-b672-424a-b356-ff5fc71c074f",
   "metadata": {},
   "outputs": [
    {
     "data": {
      "image/png": "[encoded data removed]",
      "text/plain": [
       "<Figure size 432x288 with 1 Axes>"
      ]
     },
     "metadata": {
      "needs_background": "light"
     },
     "output_type": "display_data"
    }
   ],
   "source": [
    "#collapse-hide\n",
    "tmp1 = pd.DataFrame(ideal.clarity.value_counts()/len(ideal))\n",
    "tmp1.reset_index(inplace=True)\n",
    "tmp1['cut'] = 'Ideal'\n",
    "tmp1.columns = ['clarity', 'prob', 'cut']\n",
    "\n",
    "tmp2 = pd.DataFrame(good.clarity.value_counts()/len(good))\n",
    "tmp2.reset_index(inplace=True)\n",
    "tmp2['cut'] = 'Good'\n",
    "tmp2.columns = ['clarity', 'prob', 'cut']\n",
    "\n",
    "tmp = pd.concat([tmp1, tmp2])\n",
    "\n",
    "sns.barplot(x=tmp.clarity, y=tmp.prob, hue=tmp.cut);"
   ]
  },
  {
   "cell_type": "markdown",
   "id": "5b9bda44-a287-42fd-a759-858e723ba5b2",
   "metadata": {},
   "source": [
    "WOW! this is huge difference. Take a minute to compare both the plot. Can you spot the difference? Hint: look at y-axis.\n",
    "\n",
    "Clearly, *SI1*, *SI2* and *I1* are more popular in *Good* diamonds than *Ideal* diamonds. This was not visible when we tried to compare them using absolute values. \n",
    "\n",
    "> Important: Whenever comparing two or more distributions make sure you **normalize** them before comparison.\n",
    "\n",
    "Wonderful, now we know how to compare two distributions using bar plots. But we cannot use bar plot if we have a lot unique values or for continuous features.\n",
    "\n",
    "For example, lets try to make a bar plot for *carat* feature"
   ]
  },
  {
   "cell_type": "code",
   "execution_count": 30,
   "id": "8e888d78-0316-4952-95dd-4172d0013825",
   "metadata": {},
   "outputs": [
    {
     "data": {
      "image/png": "[encoded data removed]",
      "text/plain": [
       "<Figure size 432x288 with 1 Axes>"
      ]
     },
     "metadata": {
      "needs_background": "light"
     },
     "output_type": "display_data"
    }
   ],
   "source": [
    "tmp = data.carat.value_counts()\n",
    "sns.barplot(x=tmp.index, y=tmp.values);"
   ]
  },
  {
   "cell_type": "markdown",
   "id": "8f2878ca-3a62-4342-8f83-a888af9e269e",
   "metadata": {},
   "source": [
    "The labels on the x-axis are not at all readable. There are so many small values that are hardly visible. Also, a lot of unique values make it difficult to understand the plot. We will see, how we can use histograms to alleviate this problem."
   ]
  },
  {
   "cell_type": "markdown",
   "id": "0044c44a-bc20-4628-8b35-6aa1f7ceed52",
   "metadata": {},
   "source": [
    "## Histogram\n",
    "\n",
    "Instead of creating a separate bar for every unique value, we create bins for small ranges of values and put all the values in that range inside the bin. "
   ]
  },
  {
   "cell_type": "code",
   "execution_count": 29,
   "id": "8099e515-e396-469e-aa46-ce5ef24c9550",
   "metadata": {},
   "outputs": [
    {
     "data": {
      "image/png": "[encoded data removed]",
      "text/plain": [
       "<Figure size 432x288 with 1 Axes>"
      ]
     },
     "metadata": {
      "needs_background": "light"
     },
     "output_type": "display_data"
    }
   ],
   "source": [
    "sns.histplot(data=data, x='carat', bins=50);"
   ]
  },
  {
   "cell_type": "markdown",
   "id": "7dc60c76-2e73-462a-91dc-c520b2f4aa1c",
   "metadata": {},
   "source": [
    "But histograms are not perfect. Changing the number of bins can result in drastically different plot. It can also obscure some meaningful insight from the data. Here is example"
   ]
  },
  {
   "cell_type": "code",
   "execution_count": 28,
   "id": "fbecca07-3e2b-40f1-a7ed-73cf57b398f2",
   "metadata": {},
   "outputs": [
    {
     "data": {
      "image/png": "[encoded data removed]",
      "text/plain": [
       "<Figure size 432x288 with 1 Axes>"
      ]
     },
     "metadata": {
      "needs_background": "light"
     },
     "output_type": "display_data"
    }
   ],
   "source": [
    "sns.histplot(data=data, x='carat', bins=100);"
   ]
  },
  {
   "cell_type": "markdown",
   "id": "e233bd44-327a-451c-964a-82ec52be7dd0",
   "metadata": {},
   "source": [
    "The plot will 100 bins looks very different from the one with 50 bins. \n",
    "\n",
    "Histograms works great when you well defined bins. For example: all age <18 is minor, >18 & <60 is adult, and >60 is senior citizen. In other cases, try to avoid them. "
   ]
  },
  {
   "cell_type": "markdown",
   "id": "a2b38449-5063-4491-8db1-5d254cba80c9",
   "metadata": {},
   "source": [
    "## Probability Density Functions (PDFs)\n",
    "\n",
    "For simplicity, you can think of PDFs are histograms with a lot of bins & then some smoothing to reduce the impact of missing values & noise.\n",
    "\n",
    "### Technical Stuff (not important)\n",
    "Technically, PDFs are derivatives of Cumulative Distribution Functions (CDFs). CDFs are nothing but cumulative sum of PMFs. \n",
    "\n",
    "In physics, Density of a substance is defined as mass per unit volume. No matter how the mass or volume changes, their ratio (i.e density) will always remain constant. Similarly, no matter how many data points you select from the distribution and the absolute values of these data points, the PDF will (more or less) look the same. \n",
    "\n",
    "Hence, PDF is a very apt name. Density is the way you summaries substances & also distributions. PDF is the standard way to describe any distribution.\n",
    "\n",
    "---\n",
    "\n",
    "PDFs are very expensive to compute & often times don't have real solutions. Kernel density estimation (KDE) is an algorithm that takes a sample and finds an appropriately smooth PDF that fits the data. You can read details at [wikipedia](http://en.wikipedia.org/wiki/Kernel_density_estimation).\n",
    "\n",
    "Don't worry about all these technical details, you can easily make KDE plot using seaborn."
   ]
  },
  {
   "cell_type": "code",
   "execution_count": 27,
   "id": "325863ee-a45a-41a4-a0c2-bca89a5232da",
   "metadata": {},
   "outputs": [
    {
     "data": {
      "image/png": "[encoded data removed]",
      "text/plain": [
       "<Figure size 432x288 with 1 Axes>"
      ]
     },
     "metadata": {
      "needs_background": "light"
     },
     "output_type": "display_data"
    }
   ],
   "source": [
    "sns.kdeplot(data=data, x='carat');"
   ]
  },
  {
   "cell_type": "markdown",
   "id": "6ff885b8-dcc4-4ec9-93d6-be6d2d0da179",
   "metadata": {},
   "source": [
    "In summary, you can always use KDE plots for continuous features & bar plot for categorical features. If you have well defines bins for continuous features then you can also use histograms."
   ]
  },
  {
   "cell_type": "markdown",
   "id": "4bca039a-2701-4b5d-aa72-2d317fd7bdc1",
   "metadata": {},
   "source": [
    "## Thinks to look for in distributions\n",
    "\n",
    "Often, we want to summarize the distribution with a few descriptive statistics. Some of the characteristics we might want to look for, are:\n",
    "- **Central tendency**: Do the values tend to cluster around a particular point?\n",
    "- **Modes**: Is there more than one cluster?\n",
    "- **Spread**: How much variability is there in the values?\n",
    "- **Tails**: How quickly do the probabilities drop off as we move away from the modes? **Skewness** is a property that describes the shape of a distribution. If the distribution is symmetric around its central tendency, it is **unskewed**. If the values extend farther to the right, it is **right skewed** and if the values extend left, it is **left skewed**.\n",
    "- **Outliers**: Are there extreme values far from the modes? The best way to handle outliers depends on “domain knowledge”; that is, information about where the data come from and what they mean. And it depends on what analysis you are planning to perform\n",
    "\n",
    "Statistics designed to answer these questions are called **summary statistics**.\n",
    "\n",
    "Along with these plot, you can used other stats about the distribution like *mean*, *median*, *mode*, *min*, *max*, *25 & 75 percentile*, *Inter Quartile Range (IQR)*, etc to better understand & describe your distribution."
   ]
  },
  {
   "cell_type": "markdown",
   "id": "b1cece1e-be1e-4e5e-8c13-927c4eacbb47",
   "metadata": {},
   "source": [
    "## Model Estimation\n",
    "\n",
    "There are two types of distributions: empirical and analytic. \n",
    "\n",
    "The distributions we have used so far are called **empirical distributions** because they are based on empirical observations, which are necessarily finite samples.\n",
    "\n",
    "On the contrary, **analytic distributions** are described by analytic mathematical function. Here are some popular analytic distributions : normal/guassian, log-normal, exponential, binomial, poisson, etc. Here is a [good blog](https://medium.com/analytics-vidhya/important-distributions-in-probability-statistics-a868283fa127) discussing some of these distributions in detail.\n",
    "\n",
    "It turns out that many things we measure in the world have distributions that are well approximated by analytic distributions, so these distributions are sometimes good models for the real world. By \"Model\", I mean a simplified description of the world that is accurate enough for its intended purpose."
   ]
  },
  {
   "cell_type": "markdown",
   "id": "7a561b33-8ff3-4d19-b309-f59bb7c2d1e9",
   "metadata": {},
   "source": [
    "### Why model/estimate?\n",
    "\n",
    "- Like all models, analytic distributions are abstractions, which means they leave out details that are considered irrelevant. For example, an observed distribution might have measurement errors or quirks that are specific to the sample; analytic models smooth out these idiosyncrasies.\n",
    "- Analytic models are also a form of data compression. When a model fits a dataset well, a small set of parameters can summarize a large amount of data. For example, to describe a normal distribution, you only need two parameters: *mean* & *standard deviation*.\n",
    "- A lot of study is already available for analytic distributions. For example, if you know your data follows normal distribution then you can easily tell the range in which 68.2% of your data will lay by looking at the image below.\n",
    "\n",
    "![](https://miro.medium.com/max/875/1*b0vO_5fsIThnjrybUUnQyQ.png)"
   ]
  },
  {
   "cell_type": "markdown",
   "id": "4e677e9e-f93c-45c0-9c55-a47793e9b4c6",
   "metadata": {},
   "source": [
    "Hope you had a wonderful time reading this blog and also, you learned something useful. Cheers 🎉\n",
    "\n",
    "## Further Reading\n",
    "- [Seaborn Distributions tutorial](https://seaborn.pydata.org/tutorial/distributions.html) - Highly Recommended\n",
    "- [Distributions in SciPy](https://www.johndcook.com/blog/distributions_scipy/)"
   ]
  }
 ],
 "metadata": {
  "kernelspec": {
   "display_name": "thinkstats2",
   "language": "python",
   "name": "thinkstats2"
  },
  "language_info": {
   "codemirror_mode": {
    "name": "ipython",
    "version": 3
   },
   "file_extension": ".py",
   "mimetype": "text/x-python",
   "name": "python",
   "nbconvert_exporter": "python",
   "pygments_lexer": "ipython3",
   "version": "3.7.10"
  }
 },
 "nbformat": 4,
 "nbformat_minor": 5
}
